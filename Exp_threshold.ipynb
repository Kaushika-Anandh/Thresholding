{
 "cells": [
  {
   "cell_type": "code",
   "execution_count": 1,
   "metadata": {},
   "outputs": [],
   "source": [
    "# Import necessary packages\n",
    "import cv2\n",
    "import numpy as np\n",
    "import matplotlib.pyplot as plt"
   ]
  },
  {
   "cell_type": "code",
   "execution_count": 2,
   "metadata": {},
   "outputs": [
    {
     "data": {
      "text/plain": [
       "(425, 694, 3)"
      ]
     },
     "execution_count": 2,
     "metadata": {},
     "output_type": "execute_result"
    }
   ],
   "source": [
    "# Read the image and Convert to gray scale\n",
    "in_img=cv2.imread('suzume.PNG')\n",
    "in_img2=cv2.imread('suzume2.PNG')\n",
    "in_img2.shape"
   ]
  },
  {
   "cell_type": "code",
   "execution_count": 3,
   "metadata": {},
   "outputs": [],
   "source": [
    "in_img= cv2.resize(in_img, (461,250))\n",
    "in_img2= cv2.resize(in_img2, (463,284))\n",
    "gray_img = cv2.cvtColor(in_img,cv2.COLOR_BGR2GRAY)\n",
    "gray_img2 = cv2.cvtColor(in_img2,cv2.COLOR_BGR2GRAY)"
   ]
  },
  {
   "cell_type": "code",
   "execution_count": 4,
   "metadata": {},
   "outputs": [],
   "source": [
    "cv2.imshow('original image',in_img)\n",
    "cv2.imshow('original image(second)',in_img2)\n",
    "cv2.imshow('original image(gray)',gray_img)\n",
    "cv2.imshow('original image(gray)(second)',gray_img2)\n",
    "\n",
    "cv2.waitKey(0)\n",
    "cv2.destroyAllWindows()"
   ]
  },
  {
   "cell_type": "code",
   "execution_count": 5,
   "metadata": {},
   "outputs": [],
   "source": [
    "# Global thresholding\n",
    "# cv2.threshold(image, threshold_value, max_val, thresholding_technique)\n",
    "ret,thresh_img1=cv2.threshold(gray_img,86,255,cv2.THRESH_BINARY)\n",
    "\n",
    "cv2.imshow('original image(gray)',gray_img)\n",
    "cv2.imshow('binary threshold',thresh_img1)\n",
    "cv2.waitKey(0)\n",
    "cv2.destroyAllWindows()"
   ]
  },
  {
   "cell_type": "code",
   "execution_count": 6,
   "metadata": {},
   "outputs": [],
   "source": [
    "ret,thresh_img2=cv2.threshold(gray_img,86,255,cv2.THRESH_BINARY_INV)\n",
    "\n",
    "cv2.imshow('original image(gray)',gray_img)\n",
    "cv2.imshow('binary-inverse threshold',thresh_img2)\n",
    "cv2.waitKey(0)\n",
    "cv2.destroyAllWindows()"
   ]
  },
  {
   "cell_type": "code",
   "execution_count": 7,
   "metadata": {},
   "outputs": [],
   "source": [
    "ret,thresh_img3=cv2.threshold(gray_img,86,255,cv2.THRESH_TOZERO)\n",
    "\n",
    "cv2.imshow('original image(gray)',gray_img)\n",
    "cv2.imshow('to-zero threshold',thresh_img3)\n",
    "cv2.waitKey(0)\n",
    "cv2.destroyAllWindows()"
   ]
  },
  {
   "cell_type": "code",
   "execution_count": 8,
   "metadata": {},
   "outputs": [],
   "source": [
    "ret,thresh_img4=cv2.threshold(gray_img,86,255,cv2.THRESH_TOZERO_INV)\n",
    "\n",
    "cv2.imshow('original image(gray)',gray_img)\n",
    "cv2.imshow('to-zero-inverse threshold',thresh_img4)\n",
    "cv2.waitKey(0)\n",
    "cv2.destroyAllWindows()"
   ]
  },
  {
   "cell_type": "code",
   "execution_count": 9,
   "metadata": {},
   "outputs": [],
   "source": [
    "ret,thresh_img5=cv2.threshold(gray_img,100,255,cv2.THRESH_TRUNC)\n",
    "\n",
    "cv2.imshow('original image(gray)',gray_img)\n",
    "cv2.imshow('truncate threshold',thresh_img5)\n",
    "cv2.waitKey(0)\n",
    "cv2.destroyAllWindows()"
   ]
  },
  {
   "cell_type": "code",
   "execution_count": 10,
   "metadata": {},
   "outputs": [],
   "source": [
    "# Adaptive thresholding\n",
    "# cv2.adaptiveThreshold(source, max_val, adaptive_method, threshold_type, blocksize, constant)\n",
    "thresh_img6=cv2.adaptiveThreshold(gray_img2,255,cv2.ADAPTIVE_THRESH_MEAN_C,cv2.THRESH_BINARY,11,2)\n",
    "\n",
    "cv2.imshow('original image(gray)(second)',gray_img2)\n",
    "cv2.imshow('mean adaptive threshold',thresh_img6)\n",
    "cv2.waitKey(0)\n",
    "cv2.destroyAllWindows()"
   ]
  },
  {
   "cell_type": "code",
   "execution_count": 11,
   "metadata": {},
   "outputs": [],
   "source": [
    "thresh_img7=cv2.adaptiveThreshold(gray_img2,255,cv2.ADAPTIVE_THRESH_GAUSSIAN_C,cv2.THRESH_BINARY,11,2)\n",
    "\n",
    "cv2.imshow('original image(gray)(second)',gray_img2)\n",
    "cv2.imshow('gaussian adaptive threshold',thresh_img7)\n",
    "cv2.waitKey(0)\n",
    "cv2.destroyAllWindows()"
   ]
  },
  {
   "cell_type": "code",
   "execution_count": 12,
   "metadata": {},
   "outputs": [
    {
     "ename": "SyntaxError",
     "evalue": "invalid syntax (2535792600.py, line 6)",
     "output_type": "error",
     "traceback": [
      "\u001b[1;36m  File \u001b[1;32m\"C:\\Users\\Kaushika\\AppData\\Local\\Temp\\ipykernel_15732\\2535792600.py\"\u001b[1;36m, line \u001b[1;32m6\u001b[0m\n\u001b[1;33m    cv2.imshow(''gaussian adaptive 'threshold',thresh_img7)\u001b[0m\n\u001b[1;37m                 ^\u001b[0m\n\u001b[1;31mSyntaxError\u001b[0m\u001b[1;31m:\u001b[0m invalid syntax\n"
     ]
    }
   ],
   "source": [
    "# Optimum global thresholding using Otsu's method\n",
    "# cv2.threshold(img,0,255,cv2.THRESH_BINARY+cv2.THRESH_OTSU)\n",
    "ret,thresh_img8=cv2.threshold(gray_img2,0,255,cv2.THRESH_BINARY+cv2.THRESH_OTSU)\n",
    "\n",
    "cv2.imshow('original image(gray)(second)',gray_img2)\n",
    "cv2.imshow(''gaussian adaptive 'threshold',thresh_img7)\n",
    "cv2.waitKey(0)\n",
    "cv2.destroyAllWindows()"
   ]
  },
  {
   "cell_type": "code",
   "execution_count": null,
   "metadata": {},
   "outputs": [],
   "source": []
  }
 ],
 "metadata": {
  "interpreter": {
   "hash": "40d53ad4b78f4cfc6b8e18304c7947a5e19d8b1dfab2ef28d79f547d90fd956b"
  },
  "kernelspec": {
   "display_name": "Python 3 (ipykernel)",
   "language": "python",
   "name": "python3"
  },
  "language_info": {
   "codemirror_mode": {
    "name": "ipython",
    "version": 3
   },
   "file_extension": ".py",
   "mimetype": "text/x-python",
   "name": "python",
   "nbconvert_exporter": "python",
   "pygments_lexer": "ipython3",
   "version": "3.9.13"
  }
 },
 "nbformat": 4,
 "nbformat_minor": 2
}
